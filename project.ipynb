{
 "cells": [
  {
   "cell_type": "code",
   "execution_count": 1,
   "metadata": {},
   "outputs": [
    {
     "name": "stdout",
     "output_type": "stream",
     "text": [
      "Linear Regression - MSE: 6815754155.058177, R2: 0.0804615757978091\n",
      "Random Forest - MSE: 205550376.55959725, R2: 0.9722684438059568\n",
      "Gradient Boost - MSE: 1296589446.4300666, R2: 0.8250723560029407\n",
      "XGBoost - MSE: 268816032.61938447, R2: 0.9637330418011529\n",
      "KNN - MSE: 345863849.3648106, R2: 0.9533382378826856\n",
      "Decision Tree - MSE: 353911780.6526941, R2: 0.9522524619162717\n",
      "Bagging Regressor - MSE: 206131736.16847897, R2: 0.972190010446055\n"
     ]
    }
   ],
   "source": [
    "import joblib\n",
    "import pandas as pd\n",
    "from sklearn.preprocessing import LabelEncoder, StandardScaler\n",
    "from sklearn.model_selection import train_test_split\n",
    "from sklearn.linear_model import LinearRegression\n",
    "from sklearn.ensemble import RandomForestRegressor, GradientBoostingRegressor\n",
    "from sklearn.metrics import mean_squared_error, r2_score\n",
    "from xgboost import XGBRegressor\n",
    "from sklearn.neighbors import KNeighborsRegressor\n",
    "from sklearn.tree import DecisionTreeRegressor\n",
    "from sklearn.ensemble import BaggingRegressor\n",
    "import os\n",
    "\n",
    "# Load dataset\n",
    "X = pd.read_csv('dataset/yield_df.csv')  # Replace with actual data loading step\n",
    "y = X['hg/ha_yield']  # Target variable\n",
    "X_encoded = X.drop(columns=['hg/ha_yield', 'Unnamed: 0', 'Year'])  # Drop unnecessary columns\n",
    "\n",
    "# Encode categorical variables\n",
    "label_encoder_item = LabelEncoder()\n",
    "label_encoder_area = LabelEncoder()\n",
    "\n",
    "X_encoded['Item'] = label_encoder_item.fit_transform(X['Item'])\n",
    "X_encoded['Area'] = label_encoder_area.fit_transform(X['Area'])\n",
    "\n",
    "# Save label encoders\n",
    "joblib.dump(label_encoder_item, 'model1/label_encoder_Item.pkl')\n",
    "joblib.dump(label_encoder_area, 'model1/label_encoder_Area.pkl')\n",
    "\n",
    "# Standardize the data\n",
    "scaler = StandardScaler()\n",
    "X_scaled = scaler.fit_transform(X_encoded)\n",
    "\n",
    "# Save feature names for alignment in prediction\n",
    "feature_names = list(X_encoded.columns)\n",
    "joblib.dump(feature_names, 'model1/feature_names.pkl')\n",
    "\n",
    "# Save the scaler\n",
    "joblib.dump(scaler, 'model1/scaler.pkl')\n",
    "\n",
    "# Split dataset\n",
    "X_train, X_test, y_train, y_test = train_test_split(X_scaled, y, test_size=0.3, random_state=42)\n",
    "\n",
    "# List of models to train\n",
    "models = [\n",
    "    ('Linear Regression', LinearRegression()),\n",
    "    ('Random Forest', RandomForestRegressor(random_state=42)),\n",
    "    ('Gradient Boost', GradientBoostingRegressor(n_estimators=100, learning_rate=0.1, max_depth=3, random_state=42)),\n",
    "    ('XGBoost', XGBRegressor(random_state=42)),\n",
    "    ('KNN', KNeighborsRegressor(n_neighbors=5)),\n",
    "    ('Decision Tree', DecisionTreeRegressor(random_state=42)),\n",
    "    ('Bagging Regressor', BaggingRegressor(n_estimators=150, random_state=42))\n",
    "]\n",
    "\n",
    "# Create folder for saving models\n",
    "os.makedirs('model1', exist_ok=True)\n",
    "\n",
    "# Train models and save them\n",
    "for name, model in models:\n",
    "    # Train the model\n",
    "    model.fit(X_train, y_train)\n",
    "    \n",
    "    # Save the trained model\n",
    "    joblib.dump(model, f'model1/{name.replace(\" \", \"_\").lower()}_model.pkl')\n",
    "    \n",
    "    # Make predictions\n",
    "    y_pred = model.predict(X_test)\n",
    "    \n",
    "    # Evaluate performance\n",
    "    mse = mean_squared_error(y_test, y_pred)\n",
    "    r2 = r2_score(y_test, y_pred)\n",
    "    print(f\"{name} - MSE: {mse}, R2: {r2}\")\n"
   ]
  }
 ],
 "metadata": {
  "kernelspec": {
   "display_name": "Python 3",
   "language": "python",
   "name": "python3"
  },
  "language_info": {
   "codemirror_mode": {
    "name": "ipython",
    "version": 3
   },
   "file_extension": ".py",
   "mimetype": "text/x-python",
   "name": "python",
   "nbconvert_exporter": "python",
   "pygments_lexer": "ipython3",
   "version": "3.11.5"
  }
 },
 "nbformat": 4,
 "nbformat_minor": 2
}
